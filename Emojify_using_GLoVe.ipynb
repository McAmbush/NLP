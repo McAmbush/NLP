{
  "nbformat": 4,
  "nbformat_minor": 0,
  "metadata": {
    "colab": {
      "name": "Emojify using GLoVe",
      "provenance": [],
      "collapsed_sections": []
    },
    "kernelspec": {
      "name": "python3",
      "display_name": "Python 3"
    }
  },
  "cells": [
    {
      "cell_type": "code",
      "metadata": {
        "id": "_MS-xj3MIROA",
        "colab_type": "code",
        "colab": {
          "base_uri": "https://localhost:8080/",
          "height": 364
        },
        "outputId": "cdcc53ff-54c4-44f1-9d08-fe44bbdb74d3"
      },
      "source": [
        "!wget http://nlp.stanford.edu/data/glove.6B.zip"
      ],
      "execution_count": 1,
      "outputs": [
        {
          "output_type": "stream",
          "text": [
            "--2020-05-15 07:04:28--  http://nlp.stanford.edu/data/glove.6B.zip\n",
            "Resolving nlp.stanford.edu (nlp.stanford.edu)... 171.64.67.140\n",
            "Connecting to nlp.stanford.edu (nlp.stanford.edu)|171.64.67.140|:80... connected.\n",
            "HTTP request sent, awaiting response... 302 Found\n",
            "Location: https://nlp.stanford.edu/data/glove.6B.zip [following]\n",
            "--2020-05-15 07:04:28--  https://nlp.stanford.edu/data/glove.6B.zip\n",
            "Connecting to nlp.stanford.edu (nlp.stanford.edu)|171.64.67.140|:443... connected.\n",
            "HTTP request sent, awaiting response... 301 Moved Permanently\n",
            "Location: http://downloads.cs.stanford.edu/nlp/data/glove.6B.zip [following]\n",
            "--2020-05-15 07:04:29--  http://downloads.cs.stanford.edu/nlp/data/glove.6B.zip\n",
            "Resolving downloads.cs.stanford.edu (downloads.cs.stanford.edu)... 171.64.64.22\n",
            "Connecting to downloads.cs.stanford.edu (downloads.cs.stanford.edu)|171.64.64.22|:80... connected.\n",
            "HTTP request sent, awaiting response... 200 OK\n",
            "Length: 862182613 (822M) [application/zip]\n",
            "Saving to: ‘glove.6B.zip’\n",
            "\n",
            "glove.6B.zip        100%[===================>] 822.24M  2.10MB/s    in 6m 28s  \n",
            "\n",
            "2020-05-15 07:10:57 (2.12 MB/s) - ‘glove.6B.zip’ saved [862182613/862182613]\n",
            "\n"
          ],
          "name": "stdout"
        }
      ]
    },
    {
      "cell_type": "code",
      "metadata": {
        "id": "woZwKzDjQ2iC",
        "colab_type": "code",
        "colab": {}
      },
      "source": [
        "import numpy as np"
      ],
      "execution_count": 0,
      "outputs": []
    },
    {
      "cell_type": "code",
      "metadata": {
        "id": "xUhNfjdaQ2k0",
        "colab_type": "code",
        "colab": {}
      },
      "source": [
        "from sklearn.preprocessing import LabelBinarizer"
      ],
      "execution_count": 0,
      "outputs": []
    },
    {
      "cell_type": "code",
      "metadata": {
        "id": "YmoxPTM7TmwL",
        "colab_type": "code",
        "colab": {}
      },
      "source": [
        "import pandas as pd"
      ],
      "execution_count": 0,
      "outputs": []
    },
    {
      "cell_type": "code",
      "metadata": {
        "id": "__3a4izZTm3r",
        "colab_type": "code",
        "colab": {}
      },
      "source": [
        "from sklearn.metrics import accuracy_score"
      ],
      "execution_count": 0,
      "outputs": []
    },
    {
      "cell_type": "code",
      "metadata": {
        "id": "3ExN4GiDYjul",
        "colab_type": "code",
        "colab": {}
      },
      "source": [
        ""
      ],
      "execution_count": 0,
      "outputs": []
    },
    {
      "cell_type": "code",
      "metadata": {
        "id": "SiFa0rFKJgOj",
        "colab_type": "code",
        "colab": {}
      },
      "source": [
        "!unzip -q glove.6B.zip"
      ],
      "execution_count": 0,
      "outputs": []
    },
    {
      "cell_type": "code",
      "metadata": {
        "id": "6blQeepgP46B",
        "colab_type": "code",
        "colab": {}
      },
      "source": [
        "w2v = dict()"
      ],
      "execution_count": 0,
      "outputs": []
    },
    {
      "cell_type": "code",
      "metadata": {
        "id": "hrYrl-deQlgY",
        "colab_type": "code",
        "colab": {}
      },
      "source": [
        "words = set()"
      ],
      "execution_count": 0,
      "outputs": []
    },
    {
      "cell_type": "code",
      "metadata": {
        "id": "MjLFdmArRAOR",
        "colab_type": "code",
        "colab": {}
      },
      "source": [
        "w2i = dict()\n",
        "i2w = dict()"
      ],
      "execution_count": 0,
      "outputs": []
    },
    {
      "cell_type": "code",
      "metadata": {
        "id": "q2699EXbQcV0",
        "colab_type": "code",
        "colab": {}
      },
      "source": [
        "with open('glove.6B.50d.txt') as f:\n",
        "  for i in f:\n",
        "    i = i.strip().split()\n",
        "    words.add(i[0])\n",
        "    w2v[i[0]] = np.array(i[1:],dtype = np.float64)\n",
        "  for i,x in enumerate(sorted(words)):\n",
        "    w2i[x] = i\n",
        "    i2w[i] = x"
      ],
      "execution_count": 0,
      "outputs": []
    },
    {
      "cell_type": "code",
      "metadata": {
        "id": "74BqS3h0RhcP",
        "colab_type": "code",
        "colab": {}
      },
      "source": [
        "def sentence_avg(line,w2v):\n",
        "  words = line.lower().split()\n",
        "  total = 0\n",
        "  for w in words:\n",
        "    total+=w2v[w]\n",
        "  avg = total/len(words)\n",
        "  return avg"
      ],
      "execution_count": 0,
      "outputs": []
    },
    {
      "cell_type": "code",
      "metadata": {
        "id": "CMo_dE7oT6au",
        "colab_type": "code",
        "colab": {}
      },
      "source": [
        "def softmax(x):\n",
        "  e_x = np.exp(x - np.max(x))\n",
        "  return e_x / e_x.sum()"
      ],
      "execution_count": 0,
      "outputs": []
    },
    {
      "cell_type": "code",
      "metadata": {
        "id": "gPmUAPMMVWYY",
        "colab_type": "code",
        "colab": {}
      },
      "source": [
        "def preds(x,y,W,b,w2v):\n",
        "  n = y.shape[0]\n",
        "  pred = np.zeros((n,1))\n",
        "  for i in range(n):\n",
        "    words = x[i].lower().split()\n",
        "    avg = np.zeros((50,))\n",
        "    for w in words:\n",
        "      avg+=w2v[w]\n",
        "    avg = avg/len(words)\n",
        "    z = b + np.dot(W,avg)\n",
        "    a = softmax(z)\n",
        "    pred[i] = np.argmax(a)\n",
        "  return pred"
      ],
      "execution_count": 0,
      "outputs": []
    },
    {
      "cell_type": "code",
      "metadata": {
        "id": "duvPhAjySLOC",
        "colab_type": "code",
        "colab": {}
      },
      "source": [
        "def model(x,y,w2v,epochs = 100,lr = 0.01):\n",
        "  ny = 5\n",
        "  nh = 50\n",
        "  n = y.shape[0]\n",
        "  W = np.random.randn(ny,nh)/np.sqrt(nh)\n",
        "  b = np.zeros(ny,)\n",
        "  lb = LabelBinarizer()\n",
        "  y = lb.fit_transform(y)\n",
        "  for e in range(epochs):\n",
        "    for i in range(n):\n",
        "      avg = sentence_avg(x[i],w2v)\n",
        "      z = b + np.dot(W,avg)\n",
        "      a = softmax(z)\n",
        "      loss = -np.sum(y[i]*np.log(a))\n",
        "      dz = a - y[i]\n",
        "      dw = np.dot(dz.reshape(ny,1), avg.reshape(1, nh))\n",
        "      db = dz \n",
        "      W-=lr*dw\n",
        "      b-=lr*db\n",
        "    if e%100==0:\n",
        "      print(e,':',loss)\n",
        "      pred = preds(x,y,W,b,w2v)\n",
        "      print(accuracy_score(lb.inverse_transform(y),pred))\n",
        "  return pred,W,b"
      ],
      "execution_count": 0,
      "outputs": []
    },
    {
      "cell_type": "code",
      "metadata": {
        "id": "6S7b79oVWvT-",
        "colab_type": "code",
        "colab": {}
      },
      "source": [
        "train = pd.read_csv('train_emoji.csv',header = None)"
      ],
      "execution_count": 0,
      "outputs": []
    },
    {
      "cell_type": "code",
      "metadata": {
        "id": "J7CbOr7pXTjs",
        "colab_type": "code",
        "colab": {}
      },
      "source": [
        "x = np.array(train[0])\n",
        "y = np.array(train[1])"
      ],
      "execution_count": 0,
      "outputs": []
    },
    {
      "cell_type": "code",
      "metadata": {
        "id": "5VJiaoAPX3IW",
        "colab_type": "code",
        "colab": {
          "base_uri": "https://localhost:8080/",
          "height": 225
        },
        "outputId": "1a70f067-d179-430f-ee60-14b87fe825e3"
      },
      "source": [
        "pred,W,b = model(x,y,w2v,epochs = 600)"
      ],
      "execution_count": 51,
      "outputs": [
        {
          "output_type": "stream",
          "text": [
            "0 : 1.7195022195617633\n",
            "0.4696969696969697\n",
            "100 : 0.06452128349393395\n",
            "0.9242424242424242\n",
            "200 : 0.03812979450028687\n",
            "0.9545454545454546\n",
            "300 : 0.0306962248856829\n",
            "0.9696969696969697\n",
            "400 : 0.02677093852429714\n",
            "0.9772727272727273\n",
            "500 : 0.024075328344333652\n",
            "0.9772727272727273\n"
          ],
          "name": "stdout"
        }
      ]
    },
    {
      "cell_type": "code",
      "metadata": {
        "id": "s7K47IDgZK4s",
        "colab_type": "code",
        "colab": {}
      },
      "source": [
        "test = pd.read_csv('tesss.csv',header = None)"
      ],
      "execution_count": 0,
      "outputs": []
    },
    {
      "cell_type": "code",
      "metadata": {
        "id": "EEWYX6lNZpCb",
        "colab_type": "code",
        "colab": {}
      },
      "source": [
        "testx = test[0]\n",
        "testy = test[1]"
      ],
      "execution_count": 0,
      "outputs": []
    },
    {
      "cell_type": "code",
      "metadata": {
        "id": "LfXgcIQoZtmA",
        "colab_type": "code",
        "colab": {}
      },
      "source": [
        "testx = np.array(testx)"
      ],
      "execution_count": 0,
      "outputs": []
    },
    {
      "cell_type": "code",
      "metadata": {
        "id": "0aJb5DxdZ6V2",
        "colab_type": "code",
        "colab": {}
      },
      "source": [
        "testpred = preds(testx,testy,W,b,w2v)"
      ],
      "execution_count": 0,
      "outputs": []
    },
    {
      "cell_type": "code",
      "metadata": {
        "id": "pGlh64EIaEGx",
        "colab_type": "code",
        "colab": {
          "base_uri": "https://localhost:8080/",
          "height": 34
        },
        "outputId": "56fa82b6-9b25-43db-cebe-ecc3a790031c"
      },
      "source": [
        "print(accuracy_score(testy,testpred))"
      ],
      "execution_count": 62,
      "outputs": [
        {
          "output_type": "stream",
          "text": [
            "0.875\n"
          ],
          "name": "stdout"
        }
      ]
    },
    {
      "cell_type": "code",
      "metadata": {
        "id": "VVKxll-DaHoY",
        "colab_type": "code",
        "colab": {}
      },
      "source": [
        "emoji_dict = {0:':heart:',1:':baseball:',2:':smile:',3:':disappointed:',4:':fork_and_knife:'}"
      ],
      "execution_count": 0,
      "outputs": []
    },
    {
      "cell_type": "code",
      "metadata": {
        "id": "4GV2Wkg0a9_M",
        "colab_type": "code",
        "colab": {
          "base_uri": "https://localhost:8080/",
          "height": 211
        },
        "outputId": "49f79e8c-6541-49af-8ba2-158b300a92fd"
      },
      "source": [
        "!pip install emoji"
      ],
      "execution_count": 66,
      "outputs": [
        {
          "output_type": "stream",
          "text": [
            "Collecting emoji\n",
            "\u001b[?25l  Downloading https://files.pythonhosted.org/packages/40/8d/521be7f0091fe0f2ae690cc044faf43e3445e0ff33c574eae752dd7e39fa/emoji-0.5.4.tar.gz (43kB)\n",
            "\r\u001b[K     |███████▌                        | 10kB 17.5MB/s eta 0:00:01\r\u001b[K     |███████████████                 | 20kB 1.7MB/s eta 0:00:01\r\u001b[K     |██████████████████████▋         | 30kB 2.0MB/s eta 0:00:01\r\u001b[K     |██████████████████████████████▏ | 40kB 1.7MB/s eta 0:00:01\r\u001b[K     |████████████████████████████████| 51kB 1.6MB/s \n",
            "\u001b[?25hBuilding wheels for collected packages: emoji\n",
            "  Building wheel for emoji (setup.py) ... \u001b[?25l\u001b[?25hdone\n",
            "  Created wheel for emoji: filename=emoji-0.5.4-cp36-none-any.whl size=42176 sha256=8f030843e4d9dc3740228d9b183db910bf94e3882d3b9eb17cc4a096209634c2\n",
            "  Stored in directory: /root/.cache/pip/wheels/2a/a9/0a/4f8e8cce8074232aba240caca3fade315bb49fac68808d1a9c\n",
            "Successfully built emoji\n",
            "Installing collected packages: emoji\n",
            "Successfully installed emoji-0.5.4\n"
          ],
          "name": "stdout"
        }
      ]
    },
    {
      "cell_type": "code",
      "metadata": {
        "id": "0ALGUAtVbAgF",
        "colab_type": "code",
        "colab": {}
      },
      "source": [
        "import emoji"
      ],
      "execution_count": 0,
      "outputs": []
    },
    {
      "cell_type": "code",
      "metadata": {
        "id": "akTBMyBTbF7s",
        "colab_type": "code",
        "colab": {
          "base_uri": "https://localhost:8080/",
          "height": 34
        },
        "outputId": "c363faf0-da15-4a1d-e390-a6cc558ef1be"
      },
      "source": [
        "emoji.emojize(emoji_dict[1],use_aliases=True)"
      ],
      "execution_count": 70,
      "outputs": [
        {
          "output_type": "execute_result",
          "data": {
            "text/plain": [
              "'⚾'"
            ]
          },
          "metadata": {
            "tags": []
          },
          "execution_count": 70
        }
      ]
    },
    {
      "cell_type": "code",
      "metadata": {
        "id": "SH9sfSgcbUAI",
        "colab_type": "code",
        "colab": {}
      },
      "source": [
        "demo = pd.DataFrame()\n",
        "demo['Text'] = testx\n",
        "detmo['Original'] = [emoji.emojize(emoji_dict[x],use_aliases=True) for x in testy]"
      ],
      "execution_count": 0,
      "outputs": []
    },
    {
      "cell_type": "code",
      "metadata": {
        "id": "ICmMDk5-bvbI",
        "colab_type": "code",
        "colab": {}
      },
      "source": [
        "demo['Predicted'] = [emoji.emojize(emoji_dict[x],use_aliases=True) for x in testpred.ravel()]"
      ],
      "execution_count": 0,
      "outputs": []
    },
    {
      "cell_type": "code",
      "metadata": {
        "id": "CsaW3rpXdXmw",
        "colab_type": "code",
        "colab": {
          "base_uri": "https://localhost:8080/",
          "height": 1000
        },
        "outputId": "ffb92a5b-290b-4560-c68b-61c8641c5aae"
      },
      "source": [
        "demo"
      ],
      "execution_count": 101,
      "outputs": [
        {
          "output_type": "execute_result",
          "data": {
            "text/html": [
              "<div>\n",
              "<style scoped>\n",
              "    .dataframe tbody tr th:only-of-type {\n",
              "        vertical-align: middle;\n",
              "    }\n",
              "\n",
              "    .dataframe tbody tr th {\n",
              "        vertical-align: top;\n",
              "    }\n",
              "\n",
              "    .dataframe thead th {\n",
              "        text-align: right;\n",
              "    }\n",
              "</style>\n",
              "<table border=\"1\" class=\"dataframe\">\n",
              "  <thead>\n",
              "    <tr style=\"text-align: right;\">\n",
              "      <th></th>\n",
              "      <th>Text</th>\n",
              "      <th>Original</th>\n",
              "      <th>Predicted</th>\n",
              "    </tr>\n",
              "  </thead>\n",
              "  <tbody>\n",
              "    <tr>\n",
              "      <th>0</th>\n",
              "      <td>I want to eat\\t</td>\n",
              "      <td>🍴</td>\n",
              "      <td>🍴</td>\n",
              "    </tr>\n",
              "    <tr>\n",
              "      <th>1</th>\n",
              "      <td>he did not answer\\t</td>\n",
              "      <td>😞</td>\n",
              "      <td>😞</td>\n",
              "    </tr>\n",
              "    <tr>\n",
              "      <th>2</th>\n",
              "      <td>he got a very nice raise\\t</td>\n",
              "      <td>😄</td>\n",
              "      <td>😄</td>\n",
              "    </tr>\n",
              "    <tr>\n",
              "      <th>3</th>\n",
              "      <td>she got me a nice present\\t</td>\n",
              "      <td>😄</td>\n",
              "      <td>😄</td>\n",
              "    </tr>\n",
              "    <tr>\n",
              "      <th>4</th>\n",
              "      <td>ha ha ha it was so funny\\t</td>\n",
              "      <td>😄</td>\n",
              "      <td>😄</td>\n",
              "    </tr>\n",
              "    <tr>\n",
              "      <th>5</th>\n",
              "      <td>he is a good friend\\t</td>\n",
              "      <td>😄</td>\n",
              "      <td>😄</td>\n",
              "    </tr>\n",
              "    <tr>\n",
              "      <th>6</th>\n",
              "      <td>I am upset\\t</td>\n",
              "      <td>😞</td>\n",
              "      <td>😞</td>\n",
              "    </tr>\n",
              "    <tr>\n",
              "      <th>7</th>\n",
              "      <td>We had such a lovely dinner tonight\\t</td>\n",
              "      <td>😄</td>\n",
              "      <td>😄</td>\n",
              "    </tr>\n",
              "    <tr>\n",
              "      <th>8</th>\n",
              "      <td>where is the food\\t</td>\n",
              "      <td>🍴</td>\n",
              "      <td>🍴</td>\n",
              "    </tr>\n",
              "    <tr>\n",
              "      <th>9</th>\n",
              "      <td>Stop making this joke ha ha ha\\t</td>\n",
              "      <td>😄</td>\n",
              "      <td>😄</td>\n",
              "    </tr>\n",
              "    <tr>\n",
              "      <th>10</th>\n",
              "      <td>where is the ball\\t</td>\n",
              "      <td>⚾</td>\n",
              "      <td>⚾</td>\n",
              "    </tr>\n",
              "    <tr>\n",
              "      <th>11</th>\n",
              "      <td>work is hard\\t</td>\n",
              "      <td>😞</td>\n",
              "      <td>😄</td>\n",
              "    </tr>\n",
              "    <tr>\n",
              "      <th>12</th>\n",
              "      <td>This girl is messing with me\\t</td>\n",
              "      <td>😞</td>\n",
              "      <td>❤</td>\n",
              "    </tr>\n",
              "    <tr>\n",
              "      <th>13</th>\n",
              "      <td>are you serious</td>\n",
              "      <td>😞</td>\n",
              "      <td>😞</td>\n",
              "    </tr>\n",
              "    <tr>\n",
              "      <th>14</th>\n",
              "      <td>Let us go play baseball\\t</td>\n",
              "      <td>⚾</td>\n",
              "      <td>⚾</td>\n",
              "    </tr>\n",
              "    <tr>\n",
              "      <th>15</th>\n",
              "      <td>This stupid grader is not working \\t</td>\n",
              "      <td>😞</td>\n",
              "      <td>😞</td>\n",
              "    </tr>\n",
              "    <tr>\n",
              "      <th>16</th>\n",
              "      <td>work is horrible\\t</td>\n",
              "      <td>😞</td>\n",
              "      <td>😄</td>\n",
              "    </tr>\n",
              "    <tr>\n",
              "      <th>17</th>\n",
              "      <td>Congratulation for having a baby\\t</td>\n",
              "      <td>😄</td>\n",
              "      <td>😄</td>\n",
              "    </tr>\n",
              "    <tr>\n",
              "      <th>18</th>\n",
              "      <td>stop pissing me off</td>\n",
              "      <td>😞</td>\n",
              "      <td>😞</td>\n",
              "    </tr>\n",
              "    <tr>\n",
              "      <th>19</th>\n",
              "      <td>any suggestions for dinner\\t</td>\n",
              "      <td>🍴</td>\n",
              "      <td>🍴</td>\n",
              "    </tr>\n",
              "    <tr>\n",
              "      <th>20</th>\n",
              "      <td>I love taking breaks\\t</td>\n",
              "      <td>❤</td>\n",
              "      <td>😞</td>\n",
              "    </tr>\n",
              "    <tr>\n",
              "      <th>21</th>\n",
              "      <td>you brighten my day\\t</td>\n",
              "      <td>😄</td>\n",
              "      <td>😄</td>\n",
              "    </tr>\n",
              "    <tr>\n",
              "      <th>22</th>\n",
              "      <td>I boiled rice\\t</td>\n",
              "      <td>🍴</td>\n",
              "      <td>🍴</td>\n",
              "    </tr>\n",
              "    <tr>\n",
              "      <th>23</th>\n",
              "      <td>she is a bully\\t</td>\n",
              "      <td>😞</td>\n",
              "      <td>😞</td>\n",
              "    </tr>\n",
              "    <tr>\n",
              "      <th>24</th>\n",
              "      <td>Why are you feeling bad\\t</td>\n",
              "      <td>😞</td>\n",
              "      <td>😞</td>\n",
              "    </tr>\n",
              "    <tr>\n",
              "      <th>25</th>\n",
              "      <td>I am upset\\t</td>\n",
              "      <td>😞</td>\n",
              "      <td>😞</td>\n",
              "    </tr>\n",
              "    <tr>\n",
              "      <th>26</th>\n",
              "      <td>give me the ball</td>\n",
              "      <td>⚾</td>\n",
              "      <td>⚾</td>\n",
              "    </tr>\n",
              "    <tr>\n",
              "      <th>27</th>\n",
              "      <td>My grandmother is the love of my life\\t</td>\n",
              "      <td>❤</td>\n",
              "      <td>❤</td>\n",
              "    </tr>\n",
              "    <tr>\n",
              "      <th>28</th>\n",
              "      <td>enjoy your game</td>\n",
              "      <td>⚾</td>\n",
              "      <td>⚾</td>\n",
              "    </tr>\n",
              "    <tr>\n",
              "      <th>29</th>\n",
              "      <td>valentine day is near\\t</td>\n",
              "      <td>😄</td>\n",
              "      <td>😄</td>\n",
              "    </tr>\n",
              "    <tr>\n",
              "      <th>30</th>\n",
              "      <td>I miss you so much\\t</td>\n",
              "      <td>❤</td>\n",
              "      <td>❤</td>\n",
              "    </tr>\n",
              "    <tr>\n",
              "      <th>31</th>\n",
              "      <td>throw the ball\\t</td>\n",
              "      <td>⚾</td>\n",
              "      <td>⚾</td>\n",
              "    </tr>\n",
              "    <tr>\n",
              "      <th>32</th>\n",
              "      <td>My life is so boring\\t</td>\n",
              "      <td>😞</td>\n",
              "      <td>❤</td>\n",
              "    </tr>\n",
              "    <tr>\n",
              "      <th>33</th>\n",
              "      <td>she said yes\\t</td>\n",
              "      <td>😄</td>\n",
              "      <td>😄</td>\n",
              "    </tr>\n",
              "    <tr>\n",
              "      <th>34</th>\n",
              "      <td>will you be my valentine\\t</td>\n",
              "      <td>😄</td>\n",
              "      <td>❤</td>\n",
              "    </tr>\n",
              "    <tr>\n",
              "      <th>35</th>\n",
              "      <td>he can pitch really well\\t</td>\n",
              "      <td>⚾</td>\n",
              "      <td>⚾</td>\n",
              "    </tr>\n",
              "    <tr>\n",
              "      <th>36</th>\n",
              "      <td>dance with me\\t</td>\n",
              "      <td>😄</td>\n",
              "      <td>😄</td>\n",
              "    </tr>\n",
              "    <tr>\n",
              "      <th>37</th>\n",
              "      <td>I am hungry</td>\n",
              "      <td>🍴</td>\n",
              "      <td>🍴</td>\n",
              "    </tr>\n",
              "    <tr>\n",
              "      <th>38</th>\n",
              "      <td>See you at the restaurant\\t</td>\n",
              "      <td>🍴</td>\n",
              "      <td>🍴</td>\n",
              "    </tr>\n",
              "    <tr>\n",
              "      <th>39</th>\n",
              "      <td>I like to laugh\\t</td>\n",
              "      <td>😄</td>\n",
              "      <td>😄</td>\n",
              "    </tr>\n",
              "    <tr>\n",
              "      <th>40</th>\n",
              "      <td>I will  run</td>\n",
              "      <td>⚾</td>\n",
              "      <td>⚾</td>\n",
              "    </tr>\n",
              "    <tr>\n",
              "      <th>41</th>\n",
              "      <td>I like your jacket \\t</td>\n",
              "      <td>❤</td>\n",
              "      <td>❤</td>\n",
              "    </tr>\n",
              "    <tr>\n",
              "      <th>42</th>\n",
              "      <td>i miss her\\t</td>\n",
              "      <td>❤</td>\n",
              "      <td>❤</td>\n",
              "    </tr>\n",
              "    <tr>\n",
              "      <th>43</th>\n",
              "      <td>what is your favorite baseball game\\t</td>\n",
              "      <td>⚾</td>\n",
              "      <td>⚾</td>\n",
              "    </tr>\n",
              "    <tr>\n",
              "      <th>44</th>\n",
              "      <td>Good job\\t</td>\n",
              "      <td>😄</td>\n",
              "      <td>😄</td>\n",
              "    </tr>\n",
              "    <tr>\n",
              "      <th>45</th>\n",
              "      <td>I love you to the stars and back\\t</td>\n",
              "      <td>❤</td>\n",
              "      <td>❤</td>\n",
              "    </tr>\n",
              "    <tr>\n",
              "      <th>46</th>\n",
              "      <td>What you did was awesome\\t</td>\n",
              "      <td>😄</td>\n",
              "      <td>😄</td>\n",
              "    </tr>\n",
              "    <tr>\n",
              "      <th>47</th>\n",
              "      <td>ha ha ha lol\\t</td>\n",
              "      <td>😄</td>\n",
              "      <td>😄</td>\n",
              "    </tr>\n",
              "    <tr>\n",
              "      <th>48</th>\n",
              "      <td>I do not want to joke\\t</td>\n",
              "      <td>😞</td>\n",
              "      <td>😞</td>\n",
              "    </tr>\n",
              "    <tr>\n",
              "      <th>49</th>\n",
              "      <td>go away\\t</td>\n",
              "      <td>😞</td>\n",
              "      <td>⚾</td>\n",
              "    </tr>\n",
              "    <tr>\n",
              "      <th>50</th>\n",
              "      <td>yesterday we lost again\\t</td>\n",
              "      <td>😞</td>\n",
              "      <td>😞</td>\n",
              "    </tr>\n",
              "    <tr>\n",
              "      <th>51</th>\n",
              "      <td>family is all I have\\t</td>\n",
              "      <td>❤</td>\n",
              "      <td>❤</td>\n",
              "    </tr>\n",
              "    <tr>\n",
              "      <th>52</th>\n",
              "      <td>you are failing this exercise\\t</td>\n",
              "      <td>😞</td>\n",
              "      <td>😞</td>\n",
              "    </tr>\n",
              "    <tr>\n",
              "      <th>53</th>\n",
              "      <td>Good joke\\t</td>\n",
              "      <td>😄</td>\n",
              "      <td>😄</td>\n",
              "    </tr>\n",
              "    <tr>\n",
              "      <th>54</th>\n",
              "      <td>You deserve this nice prize\\t</td>\n",
              "      <td>😄</td>\n",
              "      <td>😄</td>\n",
              "    </tr>\n",
              "    <tr>\n",
              "      <th>55</th>\n",
              "      <td>I did not have breakfast</td>\n",
              "      <td>🍴</td>\n",
              "      <td>🍴</td>\n",
              "    </tr>\n",
              "  </tbody>\n",
              "</table>\n",
              "</div>"
            ],
            "text/plain": [
              "                                       Text Original Predicted\n",
              "0                           I want to eat\\t        🍴         🍴\n",
              "1                       he did not answer\\t        😞         😞\n",
              "2                he got a very nice raise\\t        😄         😄\n",
              "3               she got me a nice present\\t        😄         😄\n",
              "4                ha ha ha it was so funny\\t        😄         😄\n",
              "5                     he is a good friend\\t        😄         😄\n",
              "6                              I am upset\\t        😞         😞\n",
              "7     We had such a lovely dinner tonight\\t        😄         😄\n",
              "8                       where is the food\\t        🍴         🍴\n",
              "9          Stop making this joke ha ha ha\\t        😄         😄\n",
              "10                      where is the ball\\t        ⚾         ⚾\n",
              "11                           work is hard\\t        😞         😄\n",
              "12           This girl is messing with me\\t        😞         ❤\n",
              "13                          are you serious        😞         😞\n",
              "14                Let us go play baseball\\t        ⚾         ⚾\n",
              "15     This stupid grader is not working \\t        😞         😞\n",
              "16                       work is horrible\\t        😞         😄\n",
              "17       Congratulation for having a baby\\t        😄         😄\n",
              "18                      stop pissing me off        😞         😞\n",
              "19             any suggestions for dinner\\t        🍴         🍴\n",
              "20                   I love taking breaks\\t        ❤         😞\n",
              "21                    you brighten my day\\t        😄         😄\n",
              "22                          I boiled rice\\t        🍴         🍴\n",
              "23                         she is a bully\\t        😞         😞\n",
              "24                Why are you feeling bad\\t        😞         😞\n",
              "25                             I am upset\\t        😞         😞\n",
              "26                         give me the ball        ⚾         ⚾\n",
              "27  My grandmother is the love of my life\\t        ❤         ❤\n",
              "28                          enjoy your game        ⚾         ⚾\n",
              "29                  valentine day is near\\t        😄         😄\n",
              "30                     I miss you so much\\t        ❤         ❤\n",
              "31                         throw the ball\\t        ⚾         ⚾\n",
              "32                   My life is so boring\\t        😞         ❤\n",
              "33                           she said yes\\t        😄         😄\n",
              "34               will you be my valentine\\t        😄         ❤\n",
              "35               he can pitch really well\\t        ⚾         ⚾\n",
              "36                          dance with me\\t        😄         😄\n",
              "37                              I am hungry        🍴         🍴\n",
              "38              See you at the restaurant\\t        🍴         🍴\n",
              "39                        I like to laugh\\t        😄         😄\n",
              "40                              I will  run        ⚾         ⚾\n",
              "41                    I like your jacket \\t        ❤         ❤\n",
              "42                             i miss her\\t        ❤         ❤\n",
              "43    what is your favorite baseball game\\t        ⚾         ⚾\n",
              "44                               Good job\\t        😄         😄\n",
              "45       I love you to the stars and back\\t        ❤         ❤\n",
              "46               What you did was awesome\\t        😄         😄\n",
              "47                           ha ha ha lol\\t        😄         😄\n",
              "48                  I do not want to joke\\t        😞         😞\n",
              "49                                go away\\t        😞         ⚾\n",
              "50                yesterday we lost again\\t        😞         😞\n",
              "51                   family is all I have\\t        ❤         ❤\n",
              "52          you are failing this exercise\\t        😞         😞\n",
              "53                              Good joke\\t        😄         😄\n",
              "54            You deserve this nice prize\\t        😄         😄\n",
              "55                I did not have breakfast         🍴         🍴"
            ]
          },
          "metadata": {
            "tags": []
          },
          "execution_count": 101
        }
      ]
    },
    {
      "cell_type": "code",
      "metadata": {
        "id": "uo6En9qSdjG5",
        "colab_type": "code",
        "colab": {}
      },
      "source": [
        ""
      ],
      "execution_count": 0,
      "outputs": []
    }
  ]
}