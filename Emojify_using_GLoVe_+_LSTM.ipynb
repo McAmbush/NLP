{
  "nbformat": 4,
  "nbformat_minor": 0,
  "metadata": {
    "colab": {
      "name": "Emojify using GLoVe + LSTM.ipynb",
      "provenance": []
    },
    "kernelspec": {
      "name": "python3",
      "display_name": "Python 3"
    }
  },
  "cells": [
    {
      "cell_type": "code",
      "metadata": {
        "id": "TknJLY049lh6",
        "colab_type": "code",
        "colab": {
          "base_uri": "https://localhost:8080/",
          "height": 364
        },
        "outputId": "bab3b92b-d6cc-4d0d-c1c6-3a35c2eb9755"
      },
      "source": [
        "!wget http://nlp.stanford.edu/data/glove.6B.zip"
      ],
      "execution_count": 1,
      "outputs": [
        {
          "output_type": "stream",
          "text": [
            "--2020-05-15 10:58:58--  http://nlp.stanford.edu/data/glove.6B.zip\n",
            "Resolving nlp.stanford.edu (nlp.stanford.edu)... 171.64.67.140\n",
            "Connecting to nlp.stanford.edu (nlp.stanford.edu)|171.64.67.140|:80... connected.\n",
            "HTTP request sent, awaiting response... 302 Found\n",
            "Location: https://nlp.stanford.edu/data/glove.6B.zip [following]\n",
            "--2020-05-15 10:58:58--  https://nlp.stanford.edu/data/glove.6B.zip\n",
            "Connecting to nlp.stanford.edu (nlp.stanford.edu)|171.64.67.140|:443... connected.\n",
            "HTTP request sent, awaiting response... 301 Moved Permanently\n",
            "Location: http://downloads.cs.stanford.edu/nlp/data/glove.6B.zip [following]\n",
            "--2020-05-15 10:58:58--  http://downloads.cs.stanford.edu/nlp/data/glove.6B.zip\n",
            "Resolving downloads.cs.stanford.edu (downloads.cs.stanford.edu)... 171.64.64.22\n",
            "Connecting to downloads.cs.stanford.edu (downloads.cs.stanford.edu)|171.64.64.22|:80... connected.\n",
            "HTTP request sent, awaiting response... 200 OK\n",
            "Length: 862182613 (822M) [application/zip]\n",
            "Saving to: ‘glove.6B.zip’\n",
            "\n",
            "glove.6B.zip        100%[===================>] 822.24M  2.12MB/s    in 6m 27s  \n",
            "\n",
            "2020-05-15 11:05:26 (2.12 MB/s) - ‘glove.6B.zip’ saved [862182613/862182613]\n",
            "\n"
          ],
          "name": "stdout"
        }
      ]
    },
    {
      "cell_type": "code",
      "metadata": {
        "id": "n4et-kV8jI_h",
        "colab_type": "code",
        "colab": {
          "base_uri": "https://localhost:8080/",
          "height": 211
        },
        "outputId": "7181f76c-6cf4-4b21-9a1d-7b7595c2a9a5"
      },
      "source": [
        "!pip install emoji"
      ],
      "execution_count": 69,
      "outputs": [
        {
          "output_type": "stream",
          "text": [
            "Collecting emoji\n",
            "\u001b[?25l  Downloading https://files.pythonhosted.org/packages/40/8d/521be7f0091fe0f2ae690cc044faf43e3445e0ff33c574eae752dd7e39fa/emoji-0.5.4.tar.gz (43kB)\n",
            "\r\u001b[K     |███████▌                        | 10kB 13.4MB/s eta 0:00:01\r\u001b[K     |███████████████                 | 20kB 1.8MB/s eta 0:00:01\r\u001b[K     |██████████████████████▋         | 30kB 2.0MB/s eta 0:00:01\r\u001b[K     |██████████████████████████████▏ | 40kB 1.7MB/s eta 0:00:01\r\u001b[K     |████████████████████████████████| 51kB 1.6MB/s \n",
            "\u001b[?25hBuilding wheels for collected packages: emoji\n",
            "  Building wheel for emoji (setup.py) ... \u001b[?25l\u001b[?25hdone\n",
            "  Created wheel for emoji: filename=emoji-0.5.4-cp36-none-any.whl size=42176 sha256=09410d55a628fa85fe834f4a64a363cce25df8ea17a0950c20a7d1349466100e\n",
            "  Stored in directory: /root/.cache/pip/wheels/2a/a9/0a/4f8e8cce8074232aba240caca3fade315bb49fac68808d1a9c\n",
            "Successfully built emoji\n",
            "Installing collected packages: emoji\n",
            "Successfully installed emoji-0.5.4\n"
          ],
          "name": "stdout"
        }
      ]
    },
    {
      "cell_type": "code",
      "metadata": {
        "id": "qc-ddl4AjLN0",
        "colab_type": "code",
        "colab": {}
      },
      "source": [
        "import emoji"
      ],
      "execution_count": 0,
      "outputs": []
    },
    {
      "cell_type": "code",
      "metadata": {
        "id": "RAP3f8c1DHJV",
        "colab_type": "code",
        "colab": {}
      },
      "source": [
        "import numpy as np"
      ],
      "execution_count": 0,
      "outputs": []
    },
    {
      "cell_type": "code",
      "metadata": {
        "id": "9x8ResGnDHNi",
        "colab_type": "code",
        "colab": {}
      },
      "source": [
        "from tensorflow.keras.layers import Embedding"
      ],
      "execution_count": 0,
      "outputs": []
    },
    {
      "cell_type": "code",
      "metadata": {
        "id": "hBI7KoztDHQe",
        "colab_type": "code",
        "colab": {}
      },
      "source": [
        "from tensorflow.keras.layers import LSTM,Input,Dense,Dropout"
      ],
      "execution_count": 0,
      "outputs": []
    },
    {
      "cell_type": "code",
      "metadata": {
        "id": "VKManHaDKrzY",
        "colab_type": "code",
        "colab": {}
      },
      "source": [
        "from tensorflow.keras.models import Model"
      ],
      "execution_count": 0,
      "outputs": []
    },
    {
      "cell_type": "code",
      "metadata": {
        "id": "eIsFJC0FKr1n",
        "colab_type": "code",
        "colab": {}
      },
      "source": [
        "import pandas as pd"
      ],
      "execution_count": 0,
      "outputs": []
    },
    {
      "cell_type": "code",
      "metadata": {
        "id": "kybAyZ9_Ld3J",
        "colab_type": "code",
        "colab": {}
      },
      "source": [
        "from sklearn.preprocessing import LabelBinarizer"
      ],
      "execution_count": 0,
      "outputs": []
    },
    {
      "cell_type": "code",
      "metadata": {
        "id": "e8CH5VtTLd6I",
        "colab_type": "code",
        "colab": {}
      },
      "source": [
        ""
      ],
      "execution_count": 0,
      "outputs": []
    },
    {
      "cell_type": "code",
      "metadata": {
        "id": "DSaB17mv_Ivg",
        "colab_type": "code",
        "colab": {}
      },
      "source": [
        "!unzip -q glove.6B.zip"
      ],
      "execution_count": 0,
      "outputs": []
    },
    {
      "cell_type": "code",
      "metadata": {
        "id": "GpreMXENCJiZ",
        "colab_type": "code",
        "colab": {}
      },
      "source": [
        "w2v = dict()\n",
        "w2i = dict()\n",
        "i2w = dict()\n",
        "words = set()"
      ],
      "execution_count": 0,
      "outputs": []
    },
    {
      "cell_type": "code",
      "metadata": {
        "id": "kbn_CR8cAzeK",
        "colab_type": "code",
        "colab": {}
      },
      "source": [
        "with open('glove.6B.50d.txt') as f:\n",
        "  for i in f:\n",
        "    x = i.strip().split()\n",
        "    words.add(x[0])\n",
        "    w2v[x[0]] = np.array(x[1:],dtype = np.float64)\n",
        "  for i,j in enumerate(sorted(words)):\n",
        "    w2i[j] = i\n",
        "    i2w[i] = j"
      ],
      "execution_count": 0,
      "outputs": []
    },
    {
      "cell_type": "code",
      "metadata": {
        "id": "TQHCWL3wDflQ",
        "colab_type": "code",
        "colab": {}
      },
      "source": [
        "def sent2idx(x,w2i,maxm):\n",
        "  n = x.shape[0]\n",
        "  ids = np.zeros((n,maxm))\n",
        "  for i in range(n):\n",
        "    words = x[i].lower().split()\n",
        "    for j,k in enumerate(words):\n",
        "      ids[i,j] = w2i[k]\n",
        "\n",
        "  return ids"
      ],
      "execution_count": 0,
      "outputs": []
    },
    {
      "cell_type": "code",
      "metadata": {
        "id": "sSvpx7nzEWWY",
        "colab_type": "code",
        "colab": {}
      },
      "source": [
        "def embed_layer(w2v,w2i):\n",
        "  lens = len(w2i)+1\n",
        "  dims = 50\n",
        "\n",
        "  emb_mx = np.zeros((lens,dims))\n",
        "\n",
        "  for w,i in w2i.items():\n",
        "    emb_mx[i,] = w2v[w]\n",
        "  \n",
        "  emb_layer = Embedding(lens,dims,trainable = False)\n",
        "  emb_layer.build((None,))\n",
        "  emb_layer.set_weights([emb_mx])\n",
        "\n",
        "  return emb_layer"
      ],
      "execution_count": 0,
      "outputs": []
    },
    {
      "cell_type": "code",
      "metadata": {
        "id": "ez6GaHbvKZ6V",
        "colab_type": "code",
        "colab": {}
      },
      "source": [
        "def model(in_shape,w2v,w2i):\n",
        "  inputs = Input(in_shape,dtype = 'int32')\n",
        "  emb_layer = embed_layer(w2v,w2i)\n",
        "  emb = emb_layer(inputs)\n",
        "  x = LSTM(128,return_sequences=True)(emb)\n",
        "  x = Dropout(0.4)(x)\n",
        "  x = LSTM(128)(x)\n",
        "  x = Dropout(0.4)(x)\n",
        "  x = Dense(5,activation = 'softmax')(x)\n",
        "  model = Model(inputs,x)\n",
        "  return model"
      ],
      "execution_count": 0,
      "outputs": []
    },
    {
      "cell_type": "code",
      "metadata": {
        "id": "LkJhIrkILezo",
        "colab_type": "code",
        "colab": {}
      },
      "source": [
        "train = pd.read_csv('train_emoji.csv',header = None)\n",
        "test = pd.read_csv('tesss.csv',header = None)"
      ],
      "execution_count": 0,
      "outputs": []
    },
    {
      "cell_type": "code",
      "metadata": {
        "id": "2Jufmu40hJuV",
        "colab_type": "code",
        "colab": {}
      },
      "source": [
        "lb = LabelBinarizer()"
      ],
      "execution_count": 0,
      "outputs": []
    },
    {
      "cell_type": "code",
      "metadata": {
        "id": "xnwZQ3eJLe2j",
        "colab_type": "code",
        "colab": {}
      },
      "source": [
        "trainx = np.array(train[0])\n",
        "trainy = lb.fit_transform(train[1])"
      ],
      "execution_count": 0,
      "outputs": []
    },
    {
      "cell_type": "code",
      "metadata": {
        "id": "-hgWE2gjhVj-",
        "colab_type": "code",
        "colab": {}
      },
      "source": [
        "maxm = len(max(trainx,key = len).split())"
      ],
      "execution_count": 0,
      "outputs": []
    },
    {
      "cell_type": "code",
      "metadata": {
        "id": "ixcccw-DLKR6",
        "colab_type": "code",
        "colab": {}
      },
      "source": [
        "model = model((maxm,),w2v,w2i)"
      ],
      "execution_count": 0,
      "outputs": []
    },
    {
      "cell_type": "code",
      "metadata": {
        "id": "wXaTXLDRhj-s",
        "colab_type": "code",
        "colab": {}
      },
      "source": [
        "model.compile('adam','categorical_crossentropy',['accuracy'])"
      ],
      "execution_count": 0,
      "outputs": []
    },
    {
      "cell_type": "code",
      "metadata": {
        "id": "6tXaklXviETE",
        "colab_type": "code",
        "colab": {}
      },
      "source": [
        "tx = sent2idx(trainx,w2i,maxm)"
      ],
      "execution_count": 0,
      "outputs": []
    },
    {
      "cell_type": "code",
      "metadata": {
        "id": "EhMuXB2oiW-8",
        "colab_type": "code",
        "colab": {
          "base_uri": "https://localhost:8080/",
          "height": 1000
        },
        "outputId": "8958412e-3b1e-4a66-c8c4-02ff27d74062"
      },
      "source": [
        "model.fit(tx,trainy,batch_size=32,epochs = 100)"
      ],
      "execution_count": 65,
      "outputs": [
        {
          "output_type": "stream",
          "text": [
            "Epoch 1/100\n",
            "5/5 [==============================] - 0s 18ms/step - loss: 1.5409 - accuracy: 0.3182\n",
            "Epoch 2/100\n",
            "5/5 [==============================] - 0s 17ms/step - loss: 1.4931 - accuracy: 0.3939\n",
            "Epoch 3/100\n",
            "5/5 [==============================] - 0s 18ms/step - loss: 1.4637 - accuracy: 0.3636\n",
            "Epoch 4/100\n",
            "5/5 [==============================] - 0s 18ms/step - loss: 1.3707 - accuracy: 0.4167\n",
            "Epoch 5/100\n",
            "5/5 [==============================] - 0s 18ms/step - loss: 1.3307 - accuracy: 0.4470\n",
            "Epoch 6/100\n",
            "5/5 [==============================] - 0s 19ms/step - loss: 1.1950 - accuracy: 0.5530\n",
            "Epoch 7/100\n",
            "5/5 [==============================] - 0s 18ms/step - loss: 1.0268 - accuracy: 0.6364\n",
            "Epoch 8/100\n",
            "5/5 [==============================] - 0s 18ms/step - loss: 0.8668 - accuracy: 0.6591\n",
            "Epoch 9/100\n",
            "5/5 [==============================] - 0s 19ms/step - loss: 0.8989 - accuracy: 0.6515\n",
            "Epoch 10/100\n",
            "5/5 [==============================] - 0s 19ms/step - loss: 0.7379 - accuracy: 0.7576\n",
            "Epoch 11/100\n",
            "5/5 [==============================] - 0s 18ms/step - loss: 0.6054 - accuracy: 0.7727\n",
            "Epoch 12/100\n",
            "5/5 [==============================] - 0s 20ms/step - loss: 0.5511 - accuracy: 0.8182\n",
            "Epoch 13/100\n",
            "5/5 [==============================] - 0s 18ms/step - loss: 0.5316 - accuracy: 0.8258\n",
            "Epoch 14/100\n",
            "5/5 [==============================] - 0s 18ms/step - loss: 0.4694 - accuracy: 0.8106\n",
            "Epoch 15/100\n",
            "5/5 [==============================] - 0s 18ms/step - loss: 0.5340 - accuracy: 0.7879\n",
            "Epoch 16/100\n",
            "5/5 [==============================] - 0s 21ms/step - loss: 0.5300 - accuracy: 0.8333\n",
            "Epoch 17/100\n",
            "5/5 [==============================] - 0s 19ms/step - loss: 0.4756 - accuracy: 0.8182\n",
            "Epoch 18/100\n",
            "5/5 [==============================] - 0s 19ms/step - loss: 0.4558 - accuracy: 0.8333\n",
            "Epoch 19/100\n",
            "5/5 [==============================] - 0s 18ms/step - loss: 0.3879 - accuracy: 0.8561\n",
            "Epoch 20/100\n",
            "5/5 [==============================] - 0s 19ms/step - loss: 0.3638 - accuracy: 0.8182\n",
            "Epoch 21/100\n",
            "5/5 [==============================] - 0s 18ms/step - loss: 0.2406 - accuracy: 0.9167\n",
            "Epoch 22/100\n",
            "5/5 [==============================] - 0s 17ms/step - loss: 0.2300 - accuracy: 0.9318\n",
            "Epoch 23/100\n",
            "5/5 [==============================] - 0s 18ms/step - loss: 0.1771 - accuracy: 0.9318\n",
            "Epoch 24/100\n",
            "5/5 [==============================] - 0s 18ms/step - loss: 0.1407 - accuracy: 0.9545\n",
            "Epoch 25/100\n",
            "5/5 [==============================] - 0s 18ms/step - loss: 0.1468 - accuracy: 0.9545\n",
            "Epoch 26/100\n",
            "5/5 [==============================] - 0s 17ms/step - loss: 0.1067 - accuracy: 0.9773\n",
            "Epoch 27/100\n",
            "5/5 [==============================] - 0s 19ms/step - loss: 0.0931 - accuracy: 0.9848\n",
            "Epoch 28/100\n",
            "5/5 [==============================] - 0s 18ms/step - loss: 0.1411 - accuracy: 0.9470\n",
            "Epoch 29/100\n",
            "5/5 [==============================] - 0s 21ms/step - loss: 0.1465 - accuracy: 0.9470\n",
            "Epoch 30/100\n",
            "5/5 [==============================] - 0s 18ms/step - loss: 0.2788 - accuracy: 0.9167\n",
            "Epoch 31/100\n",
            "5/5 [==============================] - 0s 18ms/step - loss: 0.2953 - accuracy: 0.9015\n",
            "Epoch 32/100\n",
            "5/5 [==============================] - 0s 19ms/step - loss: 0.1258 - accuracy: 0.9545\n",
            "Epoch 33/100\n",
            "5/5 [==============================] - 0s 18ms/step - loss: 0.1891 - accuracy: 0.9394\n",
            "Epoch 34/100\n",
            "5/5 [==============================] - 0s 18ms/step - loss: 0.1724 - accuracy: 0.9318\n",
            "Epoch 35/100\n",
            "5/5 [==============================] - 0s 18ms/step - loss: 0.1329 - accuracy: 0.9545\n",
            "Epoch 36/100\n",
            "5/5 [==============================] - 0s 17ms/step - loss: 0.0974 - accuracy: 0.9621\n",
            "Epoch 37/100\n",
            "5/5 [==============================] - 0s 19ms/step - loss: 0.0885 - accuracy: 0.9697\n",
            "Epoch 38/100\n",
            "5/5 [==============================] - 0s 20ms/step - loss: 0.0968 - accuracy: 0.9545\n",
            "Epoch 39/100\n",
            "5/5 [==============================] - 0s 19ms/step - loss: 0.0836 - accuracy: 0.9848\n",
            "Epoch 40/100\n",
            "5/5 [==============================] - 0s 20ms/step - loss: 0.0643 - accuracy: 0.9924\n",
            "Epoch 41/100\n",
            "5/5 [==============================] - 0s 18ms/step - loss: 0.0276 - accuracy: 1.0000\n",
            "Epoch 42/100\n",
            "5/5 [==============================] - 0s 18ms/step - loss: 0.0349 - accuracy: 0.9924\n",
            "Epoch 43/100\n",
            "5/5 [==============================] - 0s 19ms/step - loss: 0.0293 - accuracy: 1.0000\n",
            "Epoch 44/100\n",
            "5/5 [==============================] - 0s 18ms/step - loss: 0.0267 - accuracy: 0.9924\n",
            "Epoch 45/100\n",
            "5/5 [==============================] - 0s 19ms/step - loss: 0.0191 - accuracy: 0.9924\n",
            "Epoch 46/100\n",
            "5/5 [==============================] - 0s 21ms/step - loss: 0.0178 - accuracy: 0.9924\n",
            "Epoch 47/100\n",
            "5/5 [==============================] - 0s 19ms/step - loss: 0.0092 - accuracy: 1.0000\n",
            "Epoch 48/100\n",
            "5/5 [==============================] - 0s 20ms/step - loss: 0.0161 - accuracy: 1.0000\n",
            "Epoch 49/100\n",
            "5/5 [==============================] - 0s 19ms/step - loss: 0.0075 - accuracy: 1.0000\n",
            "Epoch 50/100\n",
            "5/5 [==============================] - 0s 18ms/step - loss: 0.0112 - accuracy: 1.0000\n",
            "Epoch 51/100\n",
            "5/5 [==============================] - 0s 17ms/step - loss: 0.0081 - accuracy: 1.0000\n",
            "Epoch 52/100\n",
            "5/5 [==============================] - 0s 18ms/step - loss: 0.0576 - accuracy: 0.9848\n",
            "Epoch 53/100\n",
            "5/5 [==============================] - 0s 20ms/step - loss: 0.0587 - accuracy: 0.9773\n",
            "Epoch 54/100\n",
            "5/5 [==============================] - 0s 19ms/step - loss: 0.0442 - accuracy: 0.9848\n",
            "Epoch 55/100\n",
            "5/5 [==============================] - 0s 17ms/step - loss: 0.0454 - accuracy: 0.9848\n",
            "Epoch 56/100\n",
            "5/5 [==============================] - 0s 18ms/step - loss: 0.0251 - accuracy: 0.9924\n",
            "Epoch 57/100\n",
            "5/5 [==============================] - 0s 18ms/step - loss: 0.0145 - accuracy: 1.0000\n",
            "Epoch 58/100\n",
            "5/5 [==============================] - 0s 18ms/step - loss: 0.0102 - accuracy: 1.0000\n",
            "Epoch 59/100\n",
            "5/5 [==============================] - 0s 19ms/step - loss: 0.0259 - accuracy: 0.9924\n",
            "Epoch 60/100\n",
            "5/5 [==============================] - 0s 18ms/step - loss: 0.0072 - accuracy: 1.0000\n",
            "Epoch 61/100\n",
            "5/5 [==============================] - 0s 19ms/step - loss: 0.0061 - accuracy: 1.0000\n",
            "Epoch 62/100\n",
            "5/5 [==============================] - 0s 19ms/step - loss: 0.0071 - accuracy: 1.0000\n",
            "Epoch 63/100\n",
            "5/5 [==============================] - 0s 19ms/step - loss: 0.0062 - accuracy: 1.0000\n",
            "Epoch 64/100\n",
            "5/5 [==============================] - 0s 18ms/step - loss: 0.0053 - accuracy: 1.0000\n",
            "Epoch 65/100\n",
            "5/5 [==============================] - 0s 19ms/step - loss: 0.0049 - accuracy: 1.0000\n",
            "Epoch 66/100\n",
            "5/5 [==============================] - 0s 18ms/step - loss: 0.0036 - accuracy: 1.0000\n",
            "Epoch 67/100\n",
            "5/5 [==============================] - 0s 17ms/step - loss: 0.0029 - accuracy: 1.0000\n",
            "Epoch 68/100\n",
            "5/5 [==============================] - 0s 18ms/step - loss: 0.0028 - accuracy: 1.0000\n",
            "Epoch 69/100\n",
            "5/5 [==============================] - 0s 18ms/step - loss: 0.0026 - accuracy: 1.0000\n",
            "Epoch 70/100\n",
            "5/5 [==============================] - 0s 18ms/step - loss: 0.0023 - accuracy: 1.0000\n",
            "Epoch 71/100\n",
            "5/5 [==============================] - 0s 19ms/step - loss: 0.0029 - accuracy: 1.0000\n",
            "Epoch 72/100\n",
            "5/5 [==============================] - 0s 17ms/step - loss: 0.0015 - accuracy: 1.0000\n",
            "Epoch 73/100\n",
            "5/5 [==============================] - 0s 17ms/step - loss: 0.0015 - accuracy: 1.0000\n",
            "Epoch 74/100\n",
            "5/5 [==============================] - 0s 17ms/step - loss: 0.0018 - accuracy: 1.0000\n",
            "Epoch 75/100\n",
            "5/5 [==============================] - 0s 17ms/step - loss: 0.0023 - accuracy: 1.0000\n",
            "Epoch 76/100\n",
            "5/5 [==============================] - 0s 17ms/step - loss: 0.0022 - accuracy: 1.0000\n",
            "Epoch 77/100\n",
            "5/5 [==============================] - 0s 19ms/step - loss: 0.0023 - accuracy: 1.0000\n",
            "Epoch 78/100\n",
            "5/5 [==============================] - 0s 17ms/step - loss: 0.0013 - accuracy: 1.0000\n",
            "Epoch 79/100\n",
            "5/5 [==============================] - 0s 17ms/step - loss: 0.0016 - accuracy: 1.0000\n",
            "Epoch 80/100\n",
            "5/5 [==============================] - 0s 18ms/step - loss: 0.0014 - accuracy: 1.0000\n",
            "Epoch 81/100\n",
            "5/5 [==============================] - 0s 18ms/step - loss: 0.0013 - accuracy: 1.0000\n",
            "Epoch 82/100\n",
            "5/5 [==============================] - 0s 18ms/step - loss: 0.0010 - accuracy: 1.0000\n",
            "Epoch 83/100\n",
            "5/5 [==============================] - 0s 17ms/step - loss: 0.0037 - accuracy: 1.0000\n",
            "Epoch 84/100\n",
            "5/5 [==============================] - 0s 18ms/step - loss: 0.0011 - accuracy: 1.0000\n",
            "Epoch 85/100\n",
            "5/5 [==============================] - 0s 17ms/step - loss: 0.0021 - accuracy: 1.0000\n",
            "Epoch 86/100\n",
            "5/5 [==============================] - 0s 17ms/step - loss: 0.0027 - accuracy: 1.0000\n",
            "Epoch 87/100\n",
            "5/5 [==============================] - 0s 17ms/step - loss: 0.0018 - accuracy: 1.0000\n",
            "Epoch 88/100\n",
            "5/5 [==============================] - 0s 20ms/step - loss: 0.0017 - accuracy: 1.0000\n",
            "Epoch 89/100\n",
            "5/5 [==============================] - 0s 18ms/step - loss: 0.0010 - accuracy: 1.0000\n",
            "Epoch 90/100\n",
            "5/5 [==============================] - 0s 18ms/step - loss: 0.0014 - accuracy: 1.0000\n",
            "Epoch 91/100\n",
            "5/5 [==============================] - 0s 17ms/step - loss: 0.0012 - accuracy: 1.0000\n",
            "Epoch 92/100\n",
            "5/5 [==============================] - 0s 18ms/step - loss: 0.0012 - accuracy: 1.0000\n",
            "Epoch 93/100\n",
            "5/5 [==============================] - 0s 17ms/step - loss: 9.4403e-04 - accuracy: 1.0000\n",
            "Epoch 94/100\n",
            "5/5 [==============================] - 0s 17ms/step - loss: 0.0011 - accuracy: 1.0000\n",
            "Epoch 95/100\n",
            "5/5 [==============================] - 0s 17ms/step - loss: 8.0373e-04 - accuracy: 1.0000\n",
            "Epoch 96/100\n",
            "5/5 [==============================] - 0s 17ms/step - loss: 0.0015 - accuracy: 1.0000\n",
            "Epoch 97/100\n",
            "5/5 [==============================] - 0s 17ms/step - loss: 7.2833e-04 - accuracy: 1.0000\n",
            "Epoch 98/100\n",
            "5/5 [==============================] - 0s 17ms/step - loss: 9.1120e-04 - accuracy: 1.0000\n",
            "Epoch 99/100\n",
            "5/5 [==============================] - 0s 19ms/step - loss: 6.5521e-04 - accuracy: 1.0000\n",
            "Epoch 100/100\n",
            "5/5 [==============================] - 0s 18ms/step - loss: 0.0010 - accuracy: 1.0000\n"
          ],
          "name": "stdout"
        },
        {
          "output_type": "execute_result",
          "data": {
            "text/plain": [
              "<tensorflow.python.keras.callbacks.History at 0x7fa2afede860>"
            ]
          },
          "metadata": {
            "tags": []
          },
          "execution_count": 65
        }
      ]
    },
    {
      "cell_type": "code",
      "metadata": {
        "id": "_dgDL0SIibBN",
        "colab_type": "code",
        "colab": {}
      },
      "source": [
        "testx = np.array(test[0])\n",
        "testy = lb.fit_transform(test[1])"
      ],
      "execution_count": 0,
      "outputs": []
    },
    {
      "cell_type": "code",
      "metadata": {
        "id": "aP2IIP5Si2yT",
        "colab_type": "code",
        "colab": {
          "base_uri": "https://localhost:8080/",
          "height": 34
        },
        "outputId": "5a515f31-ceb0-4790-982c-6aa8c05cf2e6"
      },
      "source": [
        "_,acc = model.evaluate(sent2idx(testx,w2i,maxm),testy)"
      ],
      "execution_count": 67,
      "outputs": [
        {
          "output_type": "stream",
          "text": [
            "2/2 [==============================] - 0s 6ms/step - loss: 0.8414 - accuracy: 0.8571\n"
          ],
          "name": "stdout"
        }
      ]
    },
    {
      "cell_type": "code",
      "metadata": {
        "id": "vdUaUo-Ki-b9",
        "colab_type": "code",
        "colab": {
          "base_uri": "https://localhost:8080/",
          "height": 34
        },
        "outputId": "df4a835c-dc1f-4e9c-c8f5-848c44c670c6"
      },
      "source": [
        "print(acc)"
      ],
      "execution_count": 68,
      "outputs": [
        {
          "output_type": "stream",
          "text": [
            "0.8571428656578064\n"
          ],
          "name": "stdout"
        }
      ]
    },
    {
      "cell_type": "code",
      "metadata": {
        "id": "coOcAkVvjNRH",
        "colab_type": "code",
        "colab": {}
      },
      "source": [
        "emoji_dict = {0:':heart:',1:':baseball:',2:':smile:',3:':disappointed:',4:':fork_and_knife:'}"
      ],
      "execution_count": 0,
      "outputs": []
    },
    {
      "cell_type": "code",
      "metadata": {
        "id": "TZjjHO5pj7uM",
        "colab_type": "code",
        "colab": {}
      },
      "source": [
        "preds = model.predict(sent2idx(testx,w2i,maxm))"
      ],
      "execution_count": 0,
      "outputs": []
    },
    {
      "cell_type": "code",
      "metadata": {
        "id": "zRiwcMsYkJBR",
        "colab_type": "code",
        "colab": {}
      },
      "source": [
        "preds = preds.argmax(axis = 1)"
      ],
      "execution_count": 0,
      "outputs": []
    },
    {
      "cell_type": "code",
      "metadata": {
        "id": "b1c3c-l4i_KP",
        "colab_type": "code",
        "colab": {}
      },
      "source": [
        "data = pd.DataFrame()\n",
        "data['Text'] = test[0]\n",
        "data['Original'] = [emoji.emojize(emoji_dict[x],use_aliases=True) for x in test[1]]\n",
        "data['Predicted'] = [emoji.emojize(emoji_dict[x],use_aliases=True) for x in preds.ravel()]"
      ],
      "execution_count": 0,
      "outputs": []
    },
    {
      "cell_type": "code",
      "metadata": {
        "id": "d8DvVv12kNOA",
        "colab_type": "code",
        "colab": {
          "base_uri": "https://localhost:8080/",
          "height": 1000
        },
        "outputId": "adcd43f6-6d45-41bc-ecea-9b1e7a8eca32"
      },
      "source": [
        "data"
      ],
      "execution_count": 83,
      "outputs": [
        {
          "output_type": "execute_result",
          "data": {
            "text/html": [
              "<div>\n",
              "<style scoped>\n",
              "    .dataframe tbody tr th:only-of-type {\n",
              "        vertical-align: middle;\n",
              "    }\n",
              "\n",
              "    .dataframe tbody tr th {\n",
              "        vertical-align: top;\n",
              "    }\n",
              "\n",
              "    .dataframe thead th {\n",
              "        text-align: right;\n",
              "    }\n",
              "</style>\n",
              "<table border=\"1\" class=\"dataframe\">\n",
              "  <thead>\n",
              "    <tr style=\"text-align: right;\">\n",
              "      <th></th>\n",
              "      <th>Text</th>\n",
              "      <th>Original</th>\n",
              "      <th>Predicted</th>\n",
              "    </tr>\n",
              "  </thead>\n",
              "  <tbody>\n",
              "    <tr>\n",
              "      <th>0</th>\n",
              "      <td>I want to eat\\t</td>\n",
              "      <td>🍴</td>\n",
              "      <td>🍴</td>\n",
              "    </tr>\n",
              "    <tr>\n",
              "      <th>1</th>\n",
              "      <td>he did not answer\\t</td>\n",
              "      <td>😞</td>\n",
              "      <td>😞</td>\n",
              "    </tr>\n",
              "    <tr>\n",
              "      <th>2</th>\n",
              "      <td>he got a very nice raise\\t</td>\n",
              "      <td>😄</td>\n",
              "      <td>❤</td>\n",
              "    </tr>\n",
              "    <tr>\n",
              "      <th>3</th>\n",
              "      <td>she got me a nice present\\t</td>\n",
              "      <td>😄</td>\n",
              "      <td>😄</td>\n",
              "    </tr>\n",
              "    <tr>\n",
              "      <th>4</th>\n",
              "      <td>ha ha ha it was so funny\\t</td>\n",
              "      <td>😄</td>\n",
              "      <td>😄</td>\n",
              "    </tr>\n",
              "    <tr>\n",
              "      <th>5</th>\n",
              "      <td>he is a good friend\\t</td>\n",
              "      <td>😄</td>\n",
              "      <td>😄</td>\n",
              "    </tr>\n",
              "    <tr>\n",
              "      <th>6</th>\n",
              "      <td>I am upset\\t</td>\n",
              "      <td>😞</td>\n",
              "      <td>😞</td>\n",
              "    </tr>\n",
              "    <tr>\n",
              "      <th>7</th>\n",
              "      <td>We had such a lovely dinner tonight\\t</td>\n",
              "      <td>😄</td>\n",
              "      <td>😄</td>\n",
              "    </tr>\n",
              "    <tr>\n",
              "      <th>8</th>\n",
              "      <td>where is the food\\t</td>\n",
              "      <td>🍴</td>\n",
              "      <td>🍴</td>\n",
              "    </tr>\n",
              "    <tr>\n",
              "      <th>9</th>\n",
              "      <td>Stop making this joke ha ha ha\\t</td>\n",
              "      <td>😄</td>\n",
              "      <td>😄</td>\n",
              "    </tr>\n",
              "    <tr>\n",
              "      <th>10</th>\n",
              "      <td>where is the ball\\t</td>\n",
              "      <td>⚾</td>\n",
              "      <td>⚾</td>\n",
              "    </tr>\n",
              "    <tr>\n",
              "      <th>11</th>\n",
              "      <td>work is hard\\t</td>\n",
              "      <td>😞</td>\n",
              "      <td>😄</td>\n",
              "    </tr>\n",
              "    <tr>\n",
              "      <th>12</th>\n",
              "      <td>This girl is messing with me\\t</td>\n",
              "      <td>😞</td>\n",
              "      <td>❤</td>\n",
              "    </tr>\n",
              "    <tr>\n",
              "      <th>13</th>\n",
              "      <td>are you serious</td>\n",
              "      <td>😞</td>\n",
              "      <td>😞</td>\n",
              "    </tr>\n",
              "    <tr>\n",
              "      <th>14</th>\n",
              "      <td>Let us go play baseball\\t</td>\n",
              "      <td>⚾</td>\n",
              "      <td>⚾</td>\n",
              "    </tr>\n",
              "    <tr>\n",
              "      <th>15</th>\n",
              "      <td>This stupid grader is not working \\t</td>\n",
              "      <td>😞</td>\n",
              "      <td>😞</td>\n",
              "    </tr>\n",
              "    <tr>\n",
              "      <th>16</th>\n",
              "      <td>work is horrible\\t</td>\n",
              "      <td>😞</td>\n",
              "      <td>😄</td>\n",
              "    </tr>\n",
              "    <tr>\n",
              "      <th>17</th>\n",
              "      <td>Congratulation for having a baby\\t</td>\n",
              "      <td>😄</td>\n",
              "      <td>😄</td>\n",
              "    </tr>\n",
              "    <tr>\n",
              "      <th>18</th>\n",
              "      <td>stop pissing me off</td>\n",
              "      <td>😞</td>\n",
              "      <td>😞</td>\n",
              "    </tr>\n",
              "    <tr>\n",
              "      <th>19</th>\n",
              "      <td>any suggestions for dinner\\t</td>\n",
              "      <td>🍴</td>\n",
              "      <td>🍴</td>\n",
              "    </tr>\n",
              "    <tr>\n",
              "      <th>20</th>\n",
              "      <td>I love taking breaks\\t</td>\n",
              "      <td>❤</td>\n",
              "      <td>😞</td>\n",
              "    </tr>\n",
              "    <tr>\n",
              "      <th>21</th>\n",
              "      <td>you brighten my day\\t</td>\n",
              "      <td>😄</td>\n",
              "      <td>❤</td>\n",
              "    </tr>\n",
              "    <tr>\n",
              "      <th>22</th>\n",
              "      <td>I boiled rice\\t</td>\n",
              "      <td>🍴</td>\n",
              "      <td>🍴</td>\n",
              "    </tr>\n",
              "    <tr>\n",
              "      <th>23</th>\n",
              "      <td>she is a bully\\t</td>\n",
              "      <td>😞</td>\n",
              "      <td>😞</td>\n",
              "    </tr>\n",
              "    <tr>\n",
              "      <th>24</th>\n",
              "      <td>Why are you feeling bad\\t</td>\n",
              "      <td>😞</td>\n",
              "      <td>😞</td>\n",
              "    </tr>\n",
              "    <tr>\n",
              "      <th>25</th>\n",
              "      <td>I am upset\\t</td>\n",
              "      <td>😞</td>\n",
              "      <td>😞</td>\n",
              "    </tr>\n",
              "    <tr>\n",
              "      <th>26</th>\n",
              "      <td>give me the ball</td>\n",
              "      <td>⚾</td>\n",
              "      <td>⚾</td>\n",
              "    </tr>\n",
              "    <tr>\n",
              "      <th>27</th>\n",
              "      <td>My grandmother is the love of my life\\t</td>\n",
              "      <td>❤</td>\n",
              "      <td>❤</td>\n",
              "    </tr>\n",
              "    <tr>\n",
              "      <th>28</th>\n",
              "      <td>enjoy your game</td>\n",
              "      <td>⚾</td>\n",
              "      <td>⚾</td>\n",
              "    </tr>\n",
              "    <tr>\n",
              "      <th>29</th>\n",
              "      <td>valentine day is near\\t</td>\n",
              "      <td>😄</td>\n",
              "      <td>😄</td>\n",
              "    </tr>\n",
              "    <tr>\n",
              "      <th>30</th>\n",
              "      <td>I miss you so much\\t</td>\n",
              "      <td>❤</td>\n",
              "      <td>❤</td>\n",
              "    </tr>\n",
              "    <tr>\n",
              "      <th>31</th>\n",
              "      <td>throw the ball\\t</td>\n",
              "      <td>⚾</td>\n",
              "      <td>⚾</td>\n",
              "    </tr>\n",
              "    <tr>\n",
              "      <th>32</th>\n",
              "      <td>My life is so boring\\t</td>\n",
              "      <td>😞</td>\n",
              "      <td>😞</td>\n",
              "    </tr>\n",
              "    <tr>\n",
              "      <th>33</th>\n",
              "      <td>she said yes\\t</td>\n",
              "      <td>😄</td>\n",
              "      <td>😄</td>\n",
              "    </tr>\n",
              "    <tr>\n",
              "      <th>34</th>\n",
              "      <td>will you be my valentine\\t</td>\n",
              "      <td>😄</td>\n",
              "      <td>😄</td>\n",
              "    </tr>\n",
              "    <tr>\n",
              "      <th>35</th>\n",
              "      <td>he can pitch really well\\t</td>\n",
              "      <td>⚾</td>\n",
              "      <td>⚾</td>\n",
              "    </tr>\n",
              "    <tr>\n",
              "      <th>36</th>\n",
              "      <td>dance with me\\t</td>\n",
              "      <td>😄</td>\n",
              "      <td>😄</td>\n",
              "    </tr>\n",
              "    <tr>\n",
              "      <th>37</th>\n",
              "      <td>I am hungry</td>\n",
              "      <td>🍴</td>\n",
              "      <td>🍴</td>\n",
              "    </tr>\n",
              "    <tr>\n",
              "      <th>38</th>\n",
              "      <td>See you at the restaurant\\t</td>\n",
              "      <td>🍴</td>\n",
              "      <td>🍴</td>\n",
              "    </tr>\n",
              "    <tr>\n",
              "      <th>39</th>\n",
              "      <td>I like to laugh\\t</td>\n",
              "      <td>😄</td>\n",
              "      <td>😄</td>\n",
              "    </tr>\n",
              "    <tr>\n",
              "      <th>40</th>\n",
              "      <td>I will  run</td>\n",
              "      <td>⚾</td>\n",
              "      <td>⚾</td>\n",
              "    </tr>\n",
              "    <tr>\n",
              "      <th>41</th>\n",
              "      <td>I like your jacket \\t</td>\n",
              "      <td>❤</td>\n",
              "      <td>❤</td>\n",
              "    </tr>\n",
              "    <tr>\n",
              "      <th>42</th>\n",
              "      <td>i miss her\\t</td>\n",
              "      <td>❤</td>\n",
              "      <td>❤</td>\n",
              "    </tr>\n",
              "    <tr>\n",
              "      <th>43</th>\n",
              "      <td>what is your favorite baseball game\\t</td>\n",
              "      <td>⚾</td>\n",
              "      <td>⚾</td>\n",
              "    </tr>\n",
              "    <tr>\n",
              "      <th>44</th>\n",
              "      <td>Good job\\t</td>\n",
              "      <td>😄</td>\n",
              "      <td>😄</td>\n",
              "    </tr>\n",
              "    <tr>\n",
              "      <th>45</th>\n",
              "      <td>I love you to the stars and back\\t</td>\n",
              "      <td>❤</td>\n",
              "      <td>❤</td>\n",
              "    </tr>\n",
              "    <tr>\n",
              "      <th>46</th>\n",
              "      <td>What you did was awesome\\t</td>\n",
              "      <td>😄</td>\n",
              "      <td>😄</td>\n",
              "    </tr>\n",
              "    <tr>\n",
              "      <th>47</th>\n",
              "      <td>ha ha ha lol\\t</td>\n",
              "      <td>😄</td>\n",
              "      <td>😄</td>\n",
              "    </tr>\n",
              "    <tr>\n",
              "      <th>48</th>\n",
              "      <td>I do not want to joke\\t</td>\n",
              "      <td>😞</td>\n",
              "      <td>😞</td>\n",
              "    </tr>\n",
              "    <tr>\n",
              "      <th>49</th>\n",
              "      <td>go away\\t</td>\n",
              "      <td>😞</td>\n",
              "      <td>⚾</td>\n",
              "    </tr>\n",
              "    <tr>\n",
              "      <th>50</th>\n",
              "      <td>yesterday we lost again\\t</td>\n",
              "      <td>😞</td>\n",
              "      <td>😞</td>\n",
              "    </tr>\n",
              "    <tr>\n",
              "      <th>51</th>\n",
              "      <td>family is all I have\\t</td>\n",
              "      <td>❤</td>\n",
              "      <td>❤</td>\n",
              "    </tr>\n",
              "    <tr>\n",
              "      <th>52</th>\n",
              "      <td>you are failing this exercise\\t</td>\n",
              "      <td>😞</td>\n",
              "      <td>😞</td>\n",
              "    </tr>\n",
              "    <tr>\n",
              "      <th>53</th>\n",
              "      <td>Good joke\\t</td>\n",
              "      <td>😄</td>\n",
              "      <td>😄</td>\n",
              "    </tr>\n",
              "    <tr>\n",
              "      <th>54</th>\n",
              "      <td>You deserve this nice prize\\t</td>\n",
              "      <td>😄</td>\n",
              "      <td>😄</td>\n",
              "    </tr>\n",
              "    <tr>\n",
              "      <th>55</th>\n",
              "      <td>I did not have breakfast</td>\n",
              "      <td>🍴</td>\n",
              "      <td>😄</td>\n",
              "    </tr>\n",
              "  </tbody>\n",
              "</table>\n",
              "</div>"
            ],
            "text/plain": [
              "                                       Text Original Predicted\n",
              "0                           I want to eat\\t        🍴         🍴\n",
              "1                       he did not answer\\t        😞         😞\n",
              "2                he got a very nice raise\\t        😄         ❤\n",
              "3               she got me a nice present\\t        😄         😄\n",
              "4                ha ha ha it was so funny\\t        😄         😄\n",
              "5                     he is a good friend\\t        😄         😄\n",
              "6                              I am upset\\t        😞         😞\n",
              "7     We had such a lovely dinner tonight\\t        😄         😄\n",
              "8                       where is the food\\t        🍴         🍴\n",
              "9          Stop making this joke ha ha ha\\t        😄         😄\n",
              "10                      where is the ball\\t        ⚾         ⚾\n",
              "11                           work is hard\\t        😞         😄\n",
              "12           This girl is messing with me\\t        😞         ❤\n",
              "13                          are you serious        😞         😞\n",
              "14                Let us go play baseball\\t        ⚾         ⚾\n",
              "15     This stupid grader is not working \\t        😞         😞\n",
              "16                       work is horrible\\t        😞         😄\n",
              "17       Congratulation for having a baby\\t        😄         😄\n",
              "18                      stop pissing me off        😞         😞\n",
              "19             any suggestions for dinner\\t        🍴         🍴\n",
              "20                   I love taking breaks\\t        ❤         😞\n",
              "21                    you brighten my day\\t        😄         ❤\n",
              "22                          I boiled rice\\t        🍴         🍴\n",
              "23                         she is a bully\\t        😞         😞\n",
              "24                Why are you feeling bad\\t        😞         😞\n",
              "25                             I am upset\\t        😞         😞\n",
              "26                         give me the ball        ⚾         ⚾\n",
              "27  My grandmother is the love of my life\\t        ❤         ❤\n",
              "28                          enjoy your game        ⚾         ⚾\n",
              "29                  valentine day is near\\t        😄         😄\n",
              "30                     I miss you so much\\t        ❤         ❤\n",
              "31                         throw the ball\\t        ⚾         ⚾\n",
              "32                   My life is so boring\\t        😞         😞\n",
              "33                           she said yes\\t        😄         😄\n",
              "34               will you be my valentine\\t        😄         😄\n",
              "35               he can pitch really well\\t        ⚾         ⚾\n",
              "36                          dance with me\\t        😄         😄\n",
              "37                              I am hungry        🍴         🍴\n",
              "38              See you at the restaurant\\t        🍴         🍴\n",
              "39                        I like to laugh\\t        😄         😄\n",
              "40                              I will  run        ⚾         ⚾\n",
              "41                    I like your jacket \\t        ❤         ❤\n",
              "42                             i miss her\\t        ❤         ❤\n",
              "43    what is your favorite baseball game\\t        ⚾         ⚾\n",
              "44                               Good job\\t        😄         😄\n",
              "45       I love you to the stars and back\\t        ❤         ❤\n",
              "46               What you did was awesome\\t        😄         😄\n",
              "47                           ha ha ha lol\\t        😄         😄\n",
              "48                  I do not want to joke\\t        😞         😞\n",
              "49                                go away\\t        😞         ⚾\n",
              "50                yesterday we lost again\\t        😞         😞\n",
              "51                   family is all I have\\t        ❤         ❤\n",
              "52          you are failing this exercise\\t        😞         😞\n",
              "53                              Good joke\\t        😄         😄\n",
              "54            You deserve this nice prize\\t        😄         😄\n",
              "55                I did not have breakfast         🍴         😄"
            ]
          },
          "metadata": {
            "tags": []
          },
          "execution_count": 83
        }
      ]
    },
    {
      "cell_type": "code",
      "metadata": {
        "id": "2c1hEgKlkVI-",
        "colab_type": "code",
        "colab": {}
      },
      "source": [
        ""
      ],
      "execution_count": 0,
      "outputs": []
    }
  ]
}