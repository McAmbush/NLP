{
  "nbformat": 4,
  "nbformat_minor": 0,
  "metadata": {
    "colab": {
      "name": "Word2Vec GLoVe.ipynb",
      "provenance": []
    },
    "kernelspec": {
      "name": "python3",
      "display_name": "Python 3"
    }
  },
  "cells": [
    {
      "cell_type": "code",
      "metadata": {
        "id": "ENaB0fL35aHN",
        "colab_type": "code",
        "colab": {
          "base_uri": "https://localhost:8080/",
          "height": 364
        },
        "outputId": "bc8db788-4a44-4632-a4ff-93b6ec1334f9"
      },
      "source": [
        "!wget http://nlp.stanford.edu/data/glove.6B.zip"
      ],
      "execution_count": 4,
      "outputs": [
        {
          "output_type": "stream",
          "text": [
            "--2020-05-14 06:43:38--  http://nlp.stanford.edu/data/glove.6B.zip\n",
            "Resolving nlp.stanford.edu (nlp.stanford.edu)... 171.64.67.140\n",
            "Connecting to nlp.stanford.edu (nlp.stanford.edu)|171.64.67.140|:80... connected.\n",
            "HTTP request sent, awaiting response... 302 Found\n",
            "Location: https://nlp.stanford.edu/data/glove.6B.zip [following]\n",
            "--2020-05-14 06:43:38--  https://nlp.stanford.edu/data/glove.6B.zip\n",
            "Connecting to nlp.stanford.edu (nlp.stanford.edu)|171.64.67.140|:443... connected.\n",
            "HTTP request sent, awaiting response... 301 Moved Permanently\n",
            "Location: http://downloads.cs.stanford.edu/nlp/data/glove.6B.zip [following]\n",
            "--2020-05-14 06:43:39--  http://downloads.cs.stanford.edu/nlp/data/glove.6B.zip\n",
            "Resolving downloads.cs.stanford.edu (downloads.cs.stanford.edu)... 171.64.64.22\n",
            "Connecting to downloads.cs.stanford.edu (downloads.cs.stanford.edu)|171.64.64.22|:80... connected.\n",
            "HTTP request sent, awaiting response... 200 OK\n",
            "Length: 862182613 (822M) [application/zip]\n",
            "Saving to: ‘glove.6B.zip’\n",
            "\n",
            "glove.6B.zip        100%[===================>] 822.24M  2.09MB/s    in 6m 33s  \n",
            "\n",
            "2020-05-14 06:50:12 (2.09 MB/s) - ‘glove.6B.zip’ saved [862182613/862182613]\n",
            "\n"
          ],
          "name": "stdout"
        }
      ]
    },
    {
      "cell_type": "code",
      "metadata": {
        "id": "nFnJZQzH9ZRj",
        "colab_type": "code",
        "colab": {}
      },
      "source": [
        "import numpy as np"
      ],
      "execution_count": 0,
      "outputs": []
    },
    {
      "cell_type": "code",
      "metadata": {
        "id": "Sp7jdgj17JHL",
        "colab_type": "code",
        "colab": {}
      },
      "source": [
        "!unzip -q glove.6B.zip"
      ],
      "execution_count": 0,
      "outputs": []
    },
    {
      "cell_type": "code",
      "metadata": {
        "id": "zVa0m-4t9Ra0",
        "colab_type": "code",
        "colab": {}
      },
      "source": [
        "words = set()\n",
        "w2v = dict()"
      ],
      "execution_count": 0,
      "outputs": []
    },
    {
      "cell_type": "code",
      "metadata": {
        "id": "kq96fwAM8qPP",
        "colab_type": "code",
        "colab": {}
      },
      "source": [
        "with open('glove.6B.50d.txt') as f:\n",
        "  for i in f:\n",
        "    samp = i.strip().split()\n",
        "    word = samp[0]\n",
        "    words.add(word)\n",
        "    vecs = samp[1:]\n",
        "    w2v[word] = np.array(vecs,dtype = np.float64)"
      ],
      "execution_count": 0,
      "outputs": []
    },
    {
      "cell_type": "code",
      "metadata": {
        "id": "x_Uzlb0I9gCj",
        "colab_type": "code",
        "colab": {}
      },
      "source": [
        "def cosine_similarity(u,v):\n",
        "  sim = (np.dot(u,v)/(np.sqrt((np.sum(u**2)*np.sum(v**2)))))\n",
        "  return sim"
      ],
      "execution_count": 0,
      "outputs": []
    },
    {
      "cell_type": "code",
      "metadata": {
        "id": "leLVAEpy91qi",
        "colab_type": "code",
        "colab": {}
      },
      "source": [
        "bat = w2v['bat']\n",
        "ball = w2v['ball']"
      ],
      "execution_count": 0,
      "outputs": []
    },
    {
      "cell_type": "code",
      "metadata": {
        "id": "5UcRuN_4Gv8w",
        "colab_type": "code",
        "colab": {
          "base_uri": "https://localhost:8080/",
          "height": 34
        },
        "outputId": "8b2a24d1-b4f0-4268-e6f8-5ffb7d6c30ab"
      },
      "source": [
        "cosine_similarity(bat,ball)"
      ],
      "execution_count": 17,
      "outputs": [
        {
          "output_type": "execute_result",
          "data": {
            "text/plain": [
              "0.7205045664869387"
            ]
          },
          "metadata": {
            "tags": []
          },
          "execution_count": 17
        }
      ]
    },
    {
      "cell_type": "code",
      "metadata": {
        "id": "xEv8EsgdGyYB",
        "colab_type": "code",
        "colab": {}
      },
      "source": [
        "boy = w2v['boy']\n",
        "girl = w2v['girl']\n",
        "brother = w2v['brother']\n",
        "sister = w2v['sister']"
      ],
      "execution_count": 0,
      "outputs": []
    },
    {
      "cell_type": "code",
      "metadata": {
        "id": "_BEW8Th4ILCA",
        "colab_type": "code",
        "colab": {
          "base_uri": "https://localhost:8080/",
          "height": 34
        },
        "outputId": "7044b0a6-d7ae-44a7-f548-26417a334e99"
      },
      "source": [
        "print(cosine_similarity(boy-girl,brother-sister))"
      ],
      "execution_count": 19,
      "outputs": [
        {
          "output_type": "stream",
          "text": [
            "0.619394554369177\n"
          ],
          "name": "stdout"
        }
      ]
    },
    {
      "cell_type": "code",
      "metadata": {
        "id": "0CQf6kgiIOe4",
        "colab_type": "code",
        "colab": {}
      },
      "source": [
        "def analogy(words,w2v):\n",
        "  w1,w2,w3 = words\n",
        "  max_cos = -10\n",
        "  best = None\n",
        "  w1,w2,w3 = w1.lower(),w2.lower(),w3.lower()\n",
        "  e1 = w2v[w1]\n",
        "  e2 = w2v[w2]\n",
        "  e3 = w2v[w3]\n",
        "  wrds = w2v.keys()\n",
        "  for i in wrds:\n",
        "    if i in words:\n",
        "      continue\n",
        "    sim = cosine_similarity(e2-e1,w2v[i]-e3)\n",
        "    if sim>max_cos:\n",
        "      max_cos = sim\n",
        "      best = i\n",
        "    \n",
        "  return best"
      ],
      "execution_count": 0,
      "outputs": []
    },
    {
      "cell_type": "code",
      "metadata": {
        "id": "v4i7LAPbKiZ-",
        "colab_type": "code",
        "colab": {
          "base_uri": "https://localhost:8080/",
          "height": 52
        },
        "outputId": "3965fc31-4183-4982-9228-aca5d019926c"
      },
      "source": [
        "t1 = analogy(['India','Delhi','Russia'],w2v)"
      ],
      "execution_count": 21,
      "outputs": [
        {
          "output_type": "stream",
          "text": [
            "/usr/local/lib/python3.6/dist-packages/ipykernel_launcher.py:2: RuntimeWarning: invalid value encountered in double_scalars\n",
            "  \n"
          ],
          "name": "stderr"
        }
      ]
    },
    {
      "cell_type": "code",
      "metadata": {
        "id": "aHnJVhHAKzyX",
        "colab_type": "code",
        "colab": {
          "base_uri": "https://localhost:8080/",
          "height": 34
        },
        "outputId": "4b04fae2-5bce-45a4-bb5c-e59d0cf2576a"
      },
      "source": [
        "print('India->Delhi::Russia->',t1)"
      ],
      "execution_count": 23,
      "outputs": [
        {
          "output_type": "stream",
          "text": [
            "India->Delhi::Russia-> moscow\n"
          ],
          "name": "stdout"
        }
      ]
    },
    {
      "cell_type": "code",
      "metadata": {
        "id": "WdmnImrgK0Tb",
        "colab_type": "code",
        "colab": {
          "base_uri": "https://localhost:8080/",
          "height": 52
        },
        "outputId": "6c730d8a-4c10-4a70-d893-9eccce20c40a"
      },
      "source": [
        "t2 = analogy(['Apple','Fruit','Potato'],w2v)"
      ],
      "execution_count": 31,
      "outputs": [
        {
          "output_type": "stream",
          "text": [
            "/usr/local/lib/python3.6/dist-packages/ipykernel_launcher.py:2: RuntimeWarning: invalid value encountered in double_scalars\n",
            "  \n"
          ],
          "name": "stderr"
        }
      ]
    },
    {
      "cell_type": "code",
      "metadata": {
        "id": "LeUbEoTkLOg7",
        "colab_type": "code",
        "colab": {
          "base_uri": "https://localhost:8080/",
          "height": 34
        },
        "outputId": "e77d61ce-ffff-4661-8e2a-31db25fb4e62"
      },
      "source": [
        "print('Apple->Fruit::Potato->',t2)"
      ],
      "execution_count": 33,
      "outputs": [
        {
          "output_type": "stream",
          "text": [
            "Apple->Fruit::Potato-> vegetables\n"
          ],
          "name": "stdout"
        }
      ]
    },
    {
      "cell_type": "code",
      "metadata": {
        "id": "oDkJtDT1L5Gg",
        "colab_type": "code",
        "colab": {}
      },
      "source": [
        ""
      ],
      "execution_count": 0,
      "outputs": []
    }
  ]
}